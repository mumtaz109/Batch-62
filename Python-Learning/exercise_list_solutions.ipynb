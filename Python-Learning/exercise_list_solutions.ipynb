{
 "cells": [
  {
   "cell_type": "code",
   "execution_count": 21,
   "metadata": {},
   "outputs": [
    {
     "name": "stdout",
     "output_type": "stream",
     "text": [
      "Yaseen\n",
      "Molla\n",
      "Asif\n"
     ]
    }
   ],
   "source": [
    "# Exercise 3-1: Names\n",
    "\n",
    "names = ['Yaseen', 'Molla', 'Asif']\n",
    "for name in names:\n",
    "    print(name)"
   ]
  },
  {
   "cell_type": "code",
   "execution_count": 22,
   "metadata": {},
   "outputs": [
    {
     "name": "stdout",
     "output_type": "stream",
     "text": [
      "Hello, Yaseen! How are you doing today?\n",
      "Hello, Molla! How are you doing today?\n",
      "Hello, Asif! How are you doing today?\n"
     ]
    }
   ],
   "source": [
    "# Exercise 3-2: Greetings\n",
    "\n",
    "names = ['Yaseen', 'Molla', 'Asif']\n",
    "for name in names:\n",
    "    print(f\"Hello, {name}! How are you doing today?\")"
   ]
  },
  {
   "cell_type": "code",
   "execution_count": 23,
   "metadata": {},
   "outputs": [
    {
     "name": "stdout",
     "output_type": "stream",
     "text": [
      "I would like to own a Honda motorcycle.\n",
      "My dream bike is a Harley-Davidson.\n",
      "I've always admired the Yamaha brand.\n"
     ]
    }
   ],
   "source": [
    "# Exercise 3-3: Your Own List\n",
    "motorcycles = [\"Honda\", \"Yamaha\", \"Harley-Davidson\"]\n",
    "\n",
    "print(\"I would like to own a Honda motorcycle.\")\n",
    "print(f\"My dream bike is a {motorcycles[2]}.\")\n",
    "print(f\"I've always admired the {motorcycles[1]} brand.\")"
   ]
  },
  {
   "cell_type": "code",
   "execution_count": 24,
   "metadata": {},
   "outputs": [
    {
     "name": "stdout",
     "output_type": "stream",
     "text": [
      "Dear Imran Khan, you are cordially invited to dinner. Please join us for an evening of stimulating conversation.\n",
      "Dear Molla Bakhsh, you are cordially invited to dinner. Please join us for an evening of stimulating conversation.\n",
      "Dear Shakeel, you are cordially invited to dinner. Please join us for an evening of stimulating conversation.\n"
     ]
    }
   ],
   "source": [
    "# Exercise 3-4: Guest List\n",
    "\n",
    "guests = [\"Imran Khan\", \"Molla Bakhsh\", \"Shakeel\"]\n",
    "\n",
    "for guest in guests:\n",
    "    print(f\"Dear {guest}, you are cordially invited to dinner. Please join us for an evening of stimulating conversation.\")"
   ]
  },
  {
   "cell_type": "code",
   "execution_count": 25,
   "metadata": {},
   "outputs": [
    {
     "name": "stdout",
     "output_type": "stream",
     "text": [
      "Unfortunately, Molla Bakhsh can't make it to dinner.\n",
      "Dear Imran Khan, you are cordially invited to dinner. Please join us for an evening of stimulating conversation.\n",
      "Dear Abdul Ghafoor, you are cordially invited to dinner. Please join us for an evening of stimulating conversation.\n",
      "Dear Shakeel, you are cordially invited to dinner. Please join us for an evening of stimulating conversation.\n"
     ]
    }
   ],
   "source": [
    "# Exercise 3-5: Changing Guest List\n",
    "\n",
    "guests = [\"Imran Khan\", \"Molla Bakhsh\", \"Shakeel\"]\n",
    "\n",
    "print(f\"Unfortunately, {guests[1]} can't make it to dinner.\")\n",
    "\n",
    "guests[1] = \"Abdul Ghafoor\"\n",
    "\n",
    "for guest in guests:\n",
    "    print(f\"Dear {guest}, you are cordially invited to dinner. Please join us for an evening of stimulating conversation.\")"
   ]
  },
  {
   "cell_type": "code",
   "execution_count": 26,
   "metadata": {},
   "outputs": [
    {
     "name": "stdout",
     "output_type": "stream",
     "text": [
      "Good news! We found a bigger table!\n",
      "Dear Lughari, you are cordially invited to dinner. Please join us for an evening of stimulating conversation.\n",
      "Dear Imran Khan, you are cordially invited to dinner. Please join us for an evening of stimulating conversation.\n",
      "Dear Jamshaid Shah, you are cordially invited to dinner. Please join us for an evening of stimulating conversation.\n",
      "Dear Molla Bakhsh, you are cordially invited to dinner. Please join us for an evening of stimulating conversation.\n",
      "Dear Shakeel, you are cordially invited to dinner. Please join us for an evening of stimulating conversation.\n",
      "Dear Rouf, you are cordially invited to dinner. Please join us for an evening of stimulating conversation.\n"
     ]
    }
   ],
   "source": [
    "# Exercise 3-6: More guests\n",
    "\n",
    "guests = [\"Imran Khan\", \"Molla Bakhsh\", \"Shakeel\"]\n",
    "\n",
    "print(\"Good news! We found a bigger table!\")\n",
    "\n",
    "guests.insert(0, \"Lughari\")\n",
    "guests.insert(2, \"Jamshaid Shah\")\n",
    "guests.append(\"Rouf\")\n",
    "\n",
    "for guest in guests:\n",
    "    print(f\"Dear {guest}, you are cordially invited to dinner. Please join us for an evening of stimulating conversation.\")"
   ]
  },
  {
   "cell_type": "code",
   "execution_count": 27,
   "metadata": {},
   "outputs": [
    {
     "name": "stdout",
     "output_type": "stream",
     "text": [
      "Apologies, but we can only invite two people for dinner.\n",
      "Sorry, Rouf, we can't invite you to dinner this time.\n",
      "Sorry, Shakeel, we can't invite you to dinner this time.\n",
      "Sorry, Molla Bakhsh, we can't invite you to dinner this time.\n",
      "Sorry, Jamshaid Shah, we can't invite you to dinner this time.\n",
      "Dear Lughari, you're still invited to dinner!\n",
      "Dear Imran Khan, you're still invited to dinner!\n",
      "[]\n"
     ]
    }
   ],
   "source": [
    "# Exercise 3-7: Shrinking Guest List\n",
    "\n",
    "guests = ['Lughari', 'Imran Khan', 'Jamshaid Shah', 'Molla Bakhsh', 'Shakeel', 'Rouf']\n",
    "\n",
    "print(\"Apologies, but we can only invite two people for dinner.\")\n",
    "\n",
    "while len(guests) > 2:\n",
    "    removed_guest = guests.pop()\n",
    "    print(f\"Sorry, {removed_guest}, we can't invite you to dinner this time.\")\n",
    "\n",
    "for guest in guests:\n",
    "    print(f\"Dear {guest}, you're still invited to dinner!\")\n",
    "\n",
    "del guests[0]\n",
    "del guests[0]\n",
    "\n",
    "print(guests) "
   ]
  },
  {
   "cell_type": "code",
   "execution_count": 28,
   "metadata": {},
   "outputs": [
    {
     "name": "stdout",
     "output_type": "stream",
     "text": [
      "['Nelum Vally', 'Peshawar', 'MAkkah', 'Madina', 'UAE']\n",
      "['MAkkah', 'Madina', 'Nelum Vally', 'Peshawar', 'UAE']\n",
      "['Nelum Vally', 'Peshawar', 'MAkkah', 'Madina', 'UAE']\n",
      "['UAE', 'Peshawar', 'Nelum Vally', 'Madina', 'MAkkah']\n",
      "['Nelum Vally', 'Peshawar', 'MAkkah', 'Madina', 'UAE']\n",
      "['UAE', 'Madina', 'MAkkah', 'Peshawar', 'Nelum Vally']\n",
      "['Nelum Vally', 'Peshawar', 'MAkkah', 'Madina', 'UAE']\n",
      "['MAkkah', 'Madina', 'Nelum Vally', 'Peshawar', 'UAE']\n",
      "['UAE', 'Peshawar', 'Nelum Vally', 'Madina', 'MAkkah']\n"
     ]
    }
   ],
   "source": [
    "# Exercise 3-8: Seeing the World\n",
    "\n",
    "places = [\"Nelum Vally\", \"Peshawar\", \"MAkkah\", \"Madina\", \"UAE\"]\n",
    "\n",
    "print(places)\n",
    "\n",
    "print(sorted(places))\n",
    "print(places)\n",
    "\n",
    "print(sorted(places, reverse=True))\n",
    "print(places)\n",
    "\n",
    "places.reverse()\n",
    "print(places)\n",
    "\n",
    "places.reverse()\n",
    "print(places)\n",
    "\n",
    "places.sort()\n",
    "print(places)\n",
    "\n",
    "places.sort(reverse=True)\n",
    "print(places)"
   ]
  },
  {
   "cell_type": "code",
   "execution_count": 29,
   "metadata": {},
   "outputs": [
    {
     "name": "stdout",
     "output_type": "stream",
     "text": [
      "Removed language: Rust\n",
      "Index of Python: 0\n",
      "Count of C++: 1\n",
      "['C#', 'C++', 'Go', 'JavaScript', 'Python', 'Ruby', 'Swift']\n",
      "['Swift', 'Ruby', 'Python', 'JavaScript', 'Go', 'C++', 'C#']\n",
      "['Swift', 'Ruby', 'Python', 'JavaScript', 'Go', 'C++', 'C#']\n"
     ]
    }
   ],
   "source": [
    "# Exercise 3-9: Every Function\n",
    "\n",
    "languages = [\"Python\", \"Java\", \"JavaScript\", \"C++\", \"Ruby\"]\n",
    "\n",
    "languages.append(\"Swift\")\n",
    "languages.extend([\"Go\", \"Rust\"])\n",
    "languages.insert(2, \"C#\")\n",
    "languages.remove(\"Java\")\n",
    "removed_language = languages.pop()\n",
    "print(f\"Removed language: {removed_language}\")\n",
    "index_of_python = languages.index(\"Python\")\n",
    "print(f\"Index of Python: {index_of_python}\")\n",
    "count_of_c_plus_plus = languages.count(\"C++\")\n",
    "print(f\"Count of C++: {count_of_c_plus_plus}\")\n",
    "languages.sort()\n",
    "print(languages)\n",
    "languages.reverse()\n",
    "print(languages)\n",
    "languages_copy = languages.copy()\n",
    "print(languages_copy)\n"
   ]
  },
  {
   "cell_type": "code",
   "execution_count": 30,
   "metadata": {},
   "outputs": [
    {
     "name": "stdout",
     "output_type": "stream",
     "text": [
      "Index out of range. The list only has 3 elements.\n"
     ]
    }
   ],
   "source": [
    "# Exercise 3-10: Intentional Error\n",
    "\n",
    "numbers = [1, 2, 3]\n",
    "\n",
    "if len(numbers) > 3:\n",
    "    print(numbers[3])\n",
    "else:\n",
    "    print(\"Index out of range. The list only has 3 elements.\")"
   ]
  }
 ],
 "metadata": {
  "kernelspec": {
   "display_name": "Python 3",
   "language": "python",
   "name": "python3"
  },
  "language_info": {
   "codemirror_mode": {
    "name": "ipython",
    "version": 3
   },
   "file_extension": ".py",
   "mimetype": "text/x-python",
   "name": "python",
   "nbconvert_exporter": "python",
   "pygments_lexer": "ipython3",
   "version": "3.12.5"
  }
 },
 "nbformat": 4,
 "nbformat_minor": 2
}
