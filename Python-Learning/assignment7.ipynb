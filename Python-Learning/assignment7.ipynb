{
 "cells": [
  {
   "cell_type": "code",
   "execution_count": 6,
   "metadata": {},
   "outputs": [
    {
     "name": "stdout",
     "output_type": "stream",
     "text": [
      "\n",
      "Hello, Abdul Shakoor! Let's explore your favorite numbers:\n",
      "The number 4 is even.\n",
      "The number 6 is even.\n",
      "The number 9 is odd.\n",
      "The number 4 and its square: (4, 16)\n",
      "The number 6 and its square: (6, 36)\n",
      "The number 9 and its square: (9, 81)\n",
      "\n",
      "Amazing! The sum of your favorite numbers is: 19\n",
      "Wow, 19 is a prime number!\n"
     ]
    }
   ],
   "source": [
    "def is_prime(n):\n",
    "    if n <= 1:\n",
    "        return False\n",
    "    for i in range(2, int(n**0.5) + 1):\n",
    "        if n % i == 0:\n",
    "            return False\n",
    "    return True\n",
    "\n",
    "name = input(\"Enter your name: \")\n",
    "\n",
    "number1 = int(input(\"Enter your first favorite number: \"))\n",
    "number2 = int(input(\"Enter your second favorite number: \"))\n",
    "number3 = int(input(\"Enter your third favorite number: \"))\n",
    "\n",
    "numbers = [number1, number2, number3]\n",
    "\n",
    "print(f\"\\nHello, {name}! Let's explore your favorite numbers:\")\n",
    "\n",
    "even_odd_list = []\n",
    "for num in numbers:\n",
    "    if num % 2 == 0:\n",
    "        even_odd_list.append((num, \"even\"))\n",
    "    else:\n",
    "        even_odd_list.append((num, \"odd\"))\n",
    "\n",
    "for num, parity in even_odd_list:\n",
    "    print(f\"The number {num} is {parity}.\")\n",
    "\n",
    "squares = [(num, num ** 2) for num in numbers]\n",
    "\n",
    "for num, square in squares:\n",
    "    print(f\"The number {num} and its square: ({num}, {square})\")\n",
    "\n",
    "sum_of_numbers = sum(numbers)\n",
    "\n",
    "print(f\"\\nAmazing! The sum of your favorite numbers is: {sum_of_numbers}\")\n",
    "\n",
    "if is_prime(sum_of_numbers):\n",
    "    print(f\"Wow, {sum_of_numbers} is a prime number!\")\n",
    "else:\n",
    "    print(f\"{sum_of_numbers} is not a prime number.\")"
   ]
  }
 ],
 "metadata": {
  "kernelspec": {
   "display_name": "Python 3",
   "language": "python",
   "name": "python3"
  },
  "language_info": {
   "codemirror_mode": {
    "name": "ipython",
    "version": 3
   },
   "file_extension": ".py",
   "mimetype": "text/x-python",
   "name": "python",
   "nbconvert_exporter": "python",
   "pygments_lexer": "ipython3",
   "version": "3.12.4"
  }
 },
 "nbformat": 4,
 "nbformat_minor": 2
}
