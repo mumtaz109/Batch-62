{
  "nbformat": 4,
  "nbformat_minor": 0,
  "metadata": {
    "colab": {
      "provenance": [],
      "authorship_tag": "ABX9TyOJ9jDbDb9GbRU3Gld7o8yL",
      "include_colab_link": true
    },
    "kernelspec": {
      "name": "python3",
      "display_name": "Python 3"
    },
    "language_info": {
      "name": "python"
    }
  },
  "cells": [
    {
      "cell_type": "markdown",
      "metadata": {
        "id": "view-in-github",
        "colab_type": "text"
      },
      "source": [
        "<a href=\"https://colab.research.google.com/github/mumtaz109/Batch-62/blob/main/Calculator_using_functions.ipynb\" target=\"_parent\"><img src=\"https://colab.research.google.com/assets/colab-badge.svg\" alt=\"Open In Colab\"/></a>"
      ]
    },
    {
      "cell_type": "code",
      "execution_count": 10,
      "metadata": {
        "colab": {
          "base_uri": "https://localhost:8080/"
        },
        "id": "Cl_ugTPTvJ-q",
        "outputId": "fcd1bf73-882e-4434-a37b-2359b63c0d06"
      },
      "outputs": [
        {
          "output_type": "stream",
          "name": "stdout",
          "text": [
            "Welcome to the Calculator!\n",
            "1. Addition\n",
            "2. Subtraction\n",
            "3. Multiplication\n",
            "4. Division\n",
            "5. Exit\n",
            "Enter your choice (1-5): 3\n",
            "Enter the first number: 500\n",
            "Enter the second number: 57\n",
            "Result: 28500.0\n",
            "Enter your choice (1-5): 5\n",
            "Exiting...\n"
          ]
        }
      ],
      "source": [
        "def add(x, y):\n",
        "    return x + y\n",
        "\n",
        "def subtract(x, y):\n",
        "    return x - y\n",
        "\n",
        "def multiply(x, y):\n",
        "    return x * y\n",
        "\n",
        "def divide(x, y):\n",
        "    if y == 0:\n",
        "        return \"Error: Cannot divide by zero\"\n",
        "\n",
        "    else:\n",
        "        return\n",
        "    x / y\n",
        "\n",
        "def calculator():\n",
        "    print(\"Welcome to the Calculator!\")\n",
        "    print(\"1. Addition\")\n",
        "    print(\"2. Subtraction\")\n",
        "    print(\"3. Multiplication\")\n",
        "    print(\"4. Division\")\n",
        "    print(\"5. Exit\")\n",
        "\n",
        "    while True:\n",
        "        choice = input(\"Enter your choice (1-5): \")\n",
        "\n",
        "        if choice == '5':\n",
        "            print(\"Exiting...\")\n",
        "            break\n",
        "\n",
        "        num1 = float(input(\"Enter the first number: \"))\n",
        "        num2 = float(input(\"Enter the second number: \"))\n",
        "\n",
        "        if choice == '1':\n",
        "            result = add(num1, num2)\n",
        "            print(\"Result:\", result)\n",
        "        elif choice == '2':\n",
        "            result = subtract(num1, num2)\n",
        "            print(\"Result:\", result)\n",
        "        elif choice == '3':\n",
        "            result = multiply(num1, num2)\n",
        "            print(\"Result:\", result)\n",
        "        elif choice == '4':\n",
        "            result = divide(num1, num2)\n",
        "\n",
        "            print(\"Result:\", result)\n",
        "        else:\n",
        "            print(\"Invalid input. Please try again.\")\n",
        "\n",
        "if __name__ == \"__main__\":\n",
        "    calculator()\n",
        ""
      ]
    }
  ]
}